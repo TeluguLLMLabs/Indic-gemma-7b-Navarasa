{
 "cells": [
  {
   "cell_type": "markdown",
   "id": "291305e7-5631-4e29-a950-ba4c7d98709b",
   "metadata": {},
   "source": [
    "# RAG (Retrieval Augmented Generation) with LlamaIndex and Navarasa 2.0\n",
    "\n",
    "In this notebook, we will look into setting up RAG pipeline with LlamaIndex and Navarasa 2.0 model (Gemma 7B fine-tuned on 15 Indian languages).\n",
    "\n",
    "A notable limitation of these models is their lack of up-to-date knowledge, which can lead to inaccuracies or fabrications regarding current facts. For instance, the model would not be aware of the latest information on the 2024 Indian National election dates(released on last saturday). \n",
    "\n",
    "To address this issue, we employ Retrieval Augmented Generation (RAG) to provide the model with the correct context, enabling it to deliver accurate responses. Below, we demonstrate how to implement this using LlamaIndex."
   ]
  },
  {
   "cell_type": "markdown",
   "id": "dce9543d-dc37-4ae4-9c01-b1b77132bdcf",
   "metadata": {},
   "source": [
    "#### Installation"
   ]
  },
  {
   "cell_type": "code",
   "execution_count": null,
   "id": "08c3e335-bfc2-4843-9862-a47c83a9e5eb",
   "metadata": {},
   "outputs": [],
   "source": [
    "!pip install llama-index\n",
    "!pip install llama-index-embeddings-cohere\n",
    "!pip install llama-index-llms-huggingface"
   ]
  },
  {
   "cell_type": "markdown",
   "id": "b0016ecd-7cb5-4acc-947b-83f4d118baa0",
   "metadata": {},
   "source": [
    "#### Get the relevant Wikipedia page containing information about the election dates."
   ]
  },
  {
   "cell_type": "code",
   "execution_count": null,
   "id": "9d530034-84ca-41b4-80d5-c734924da9fd",
   "metadata": {},
   "outputs": [],
   "source": [
    "import requests\n",
    "from pathlib import Path\n",
    "\n",
    "wikipedia_page = '2024_Indian_general_election'\n",
    "\n",
    "response = requests.get(\n",
    "    \"https://en.wikipedia.org/w/api.php\",\n",
    "    params={\n",
    "        \"action\": \"query\",\n",
    "        \"format\": \"json\",\n",
    "        \"titles\": wikipedia_page,\n",
    "        \"prop\": \"extracts\",\n",
    "        # 'exintro': True,\n",
    "        \"explaintext\": True,\n",
    "    },\n",
    ").json()\n",
    "page = next(iter(response[\"query\"][\"pages\"].values()))\n",
    "wiki_text = page[\"extract\"]\n",
    "with open(f\"{title}.txt\", \"w\") as fp:\n",
    "    fp.write(wiki_text)"
   ]
  },
  {
   "cell_type": "markdown",
   "id": "d184193c-bfa0-465d-accc-4f96c6994075",
   "metadata": {},
   "source": [
    "#### Setup Navarasa2.0 finetuned model on HuggingFace Endpoints."
   ]
  },
  {
   "cell_type": "code",
   "execution_count": null,
   "id": "dde2d326-0176-4215-96f8-ba250fba8b47",
   "metadata": {},
   "outputs": [],
   "source": [
    "from llama_index.llms.huggingface import HuggingFaceInferenceAPI\n",
    "\n",
    "llm = HuggingFaceInferenceAPI(\n",
    "    model_name=\"<DEPLOYED MODEL URL>\", \n",
    "    token='HF_TOKEN'\n",
    ")"
   ]
  },
  {
   "cell_type": "markdown",
   "id": "94567470-1ec4-432f-9d7e-d84d79b28ecb",
   "metadata": {},
   "source": [
    "#### Setup CohereAI multi-lingual embedding model to retrieve context for the query in the Indian language"
   ]
  },
  {
   "cell_type": "code",
   "execution_count": null,
   "id": "47027915-60f9-40d0-8c5b-3d4ea35a6a2d",
   "metadata": {},
   "outputs": [],
   "source": [
    "from llama_index.embeddings.cohere import CohereEmbedding\n",
    "\n",
    "embed_model = CohereEmbedding(\n",
    "    cohere_api_key='<COHEREAI API KEY>',\n",
    "    model_name=\"embed-multilingual-v3.0\",\n",
    ")"
   ]
  },
  {
   "cell_type": "markdown",
   "id": "946f45e3-a7f7-46c0-9c5b-353b638cd6d5",
   "metadata": {},
   "source": [
    "####\n",
    "RAG Setup\n",
    "\n",
    "1. Set LLM, Embedding Model, and chunk size.\n",
    "2. Load Documents.\n",
    "3. Index Document.\n",
    "4. Querying."
   ]
  },
  {
   "cell_type": "code",
   "execution_count": null,
   "id": "4f767e5b-f784-44e7-9478-bdc52c5a2869",
   "metadata": {},
   "outputs": [],
   "source": [
    "from llama_index.core import VectorStoreIndex, SimpleDirectoryReader\n",
    "\n",
    "# set llm, embedding model and chunk_size\n",
    "Settings.llm = remotely_run\n",
    "Settings.embed_model = embed_model\n",
    "Settings.chunk_size = 512\n",
    "\n",
    "# load documents\n",
    "documents = SimpleDirectoryReader(input_files=['2024_Indian_general_election.txt']).load_data()\n",
    "\n",
    "# index documents\n",
    "index = VectorStoreIndex.from_documents(documents)\n",
    "\n",
    "# create query engine\n",
    "query_engine = index.as_query_engine(similarity_top_k=2)\n",
    "\n",
    "# querying\n",
    "response = query_engine.query(\"2024 में भारतीय चुनाव कब हो रहे हैं?\")"
   ]
  },
  {
   "cell_type": "markdown",
   "id": "3982fb6f-6015-4acd-ba2d-7126dd9fb7c1",
   "metadata": {},
   "source": [
    "#### Hindi\n",
    "\n",
    "Query: 2024 में भारतीय चुनाव कब हो रहे हैं?\n",
    "\n",
    "Answer: 19 अप्रैल 2024 से 1 जून 2024 तक।\n",
    "\n",
    "#### Telugu\n",
    "\n",
    "Query: 2024లో భారత ఎన్నికలు ఎప్పుడు జరుగుతాయి?\n",
    "\n",
    "Answer: 19 ఏప్రిల్ 2024 నుంచి 1 జూన్ 2024 వరకు భారత ఎన్నికలు జరుగుతున్నాయి.\n",
    "\n",
    "#### Marathi\n",
    "\n",
    "Query: 2024 मध्ये भारतीय निवडणुका कधी होणार आहेत?\n",
    "\n",
    "Answer: 2024 मध्ये भारतीय निवडणुका 19 एप्रिल ते 1 जून दरम्यान होणार आहेत.\n",
    "\n",
    "#### Urdu\n",
    "\n",
    "Query: 2024 میں بھارتی انتخابات کب ہوں گے؟?\n",
    "\n",
    "Answer: 2024 میں ہندوستانی عام انتخابات 19 اپریل سے 1 جون تک ہوں گے۔\n",
    "\n",
    "#### Tamil\n",
    "\n",
    "Query: 2024ல் இந்திய தேர்தல் எப்போது நடைபெறும்?\n",
    "\n",
    "Answer: 2024 இல் இந்திய தேர்தல் ஏப்ரல் 19 முதல் ஜூன் 1 வரை நடைபெறும்."
   ]
  },
  {
   "cell_type": "code",
   "execution_count": null,
   "id": "d4919547-f5f2-4383-81b5-c86df69d7a6e",
   "metadata": {},
   "outputs": [],
   "source": []
  }
 ],
 "metadata": {
  "kernelspec": {
   "display_name": "Python 3 (ipykernel)",
   "language": "python",
   "name": "python3"
  },
  "language_info": {
   "codemirror_mode": {
    "name": "ipython",
    "version": 3
   },
   "file_extension": ".py",
   "mimetype": "text/x-python",
   "name": "python",
   "nbconvert_exporter": "python",
   "pygments_lexer": "ipython3",
   "version": "3.10.12"
  }
 },
 "nbformat": 4,
 "nbformat_minor": 5
}
