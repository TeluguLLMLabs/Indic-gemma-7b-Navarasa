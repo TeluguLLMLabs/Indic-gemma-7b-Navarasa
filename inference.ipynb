{
 "cells": [
  {
   "attachments": {},
   "cell_type": "markdown",
   "id": "da2d3c50",
   "metadata": {},
   "source": [
    "# Inference Notebook\n",
    "\n",
    "This notebook guides you to give inference for the Gemma 7B/ 2B fine-tuned models by [Telugu-LLM-Labs](https://huggingface.co/Telugu-LLM-Labs). \n",
    "\n",
    "We suggest you to use T4/ A100 40GB GPU machine for faster inference. "
   ]
  },
  {
   "attachments": {},
   "cell_type": "markdown",
   "id": "8e8e06e0",
   "metadata": {},
   "source": [
    "#### Installation\n",
    "\n",
    "Installing [unsloth](https://github.com/unslothai/unsloth) for model inference. You can do inference by just using HuggingFace, please check README file for any of the models released for inferencing code using HuggingFace."
   ]
  },
  {
   "cell_type": "code",
   "execution_count": null,
   "id": "9794356b",
   "metadata": {},
   "outputs": [],
   "source": [
    "!pip install -U xformers --index-url https://download.pytorch.org/whl/cu121 \n",
    "!pip install \"unsloth[kaggle-new] @git+https://github.com/unslothai/unsloth.git@nightly\""
   ]
  },
  {
   "cell_type": "code",
   "execution_count": null,
   "id": "7f5f0d30-b7ca-4800-ad93-5e0558836686",
   "metadata": {
    "tags": []
   },
   "outputs": [],
   "source": [
    "from unsloth import FastLanguageModel\n",
    "import torch\n",
    "max_seq_length = 2048 # Choose any! We auto support RoPE Scaling internally!\n",
    "dtype = None # None for auto detection. Float16 for Tesla T4, V100, Bfloat16 for Ampere+\n",
    "load_in_4bit = False # Use for 4bit quantization\n",
    "\n",
    "model, tokenizer = FastLanguageModel.from_pretrained(\n",
    "    model_name = \"Telugu-LLM-Labs/Indic-gemma-7b-finetuned-sft-Navarasa\", \n",
    "    max_seq_length = max_seq_length,\n",
    "    dtype = dtype,\n",
    "    load_in_4bit = load_in_4bit,\n",
    "    token = '<HF TOKEN KEY>',\n",
    ")\n",
    "\n",
    "FastLanguageModel.for_inference(model) # Enable native 2x faster inference"
   ]
  },
  {
   "attachments": {},
   "cell_type": "markdown",
   "id": "465c039a",
   "metadata": {},
   "source": [
    "#### Alpaca prompt format"
   ]
  },
  {
   "cell_type": "code",
   "execution_count": null,
   "id": "2cdf06b6-14b3-41b4-ae66-0f30778a561a",
   "metadata": {},
   "outputs": [],
   "source": [
    "alpaca_prompt = \"\"\"\n",
    "### Instruction:\n",
    "{}\n",
    "\n",
    "### Input:\n",
    "{}\n",
    "\n",
    "### Response:\n",
    "{}\"\"\""
   ]
  },
  {
   "attachments": {},
   "cell_type": "markdown",
   "id": "3f90ee8e",
   "metadata": {},
   "source": [
    "#### Inference"
   ]
  },
  {
   "attachments": {},
   "cell_type": "markdown",
   "id": "8d6175de",
   "metadata": {},
   "source": [
    "##### Example-1"
   ]
  },
  {
   "cell_type": "code",
   "execution_count": null,
   "id": "56de1a20-928f-4848-9fac-847ca1002502",
   "metadata": {
    "tags": []
   },
   "outputs": [],
   "source": [
    "inputs = tokenizer(\n",
    "[\n",
    "    alpaca_prompt.format(\n",
    "        \"Translate following sentence to Hindi.\",\n",
    "        \"India is a great country.\",\n",
    "        \"\"\n",
    "    )\n",
    "], return_tensors = \"pt\").to(\"cuda\")\n",
    "\n",
    "outputs = model.generate(**inputs, max_new_tokens = 1000, use_cache = True)\n",
    "tokenizer.batch_decode(outputs)"
   ]
  },
  {
   "attachments": {},
   "cell_type": "markdown",
   "id": "67f0f405",
   "metadata": {},
   "source": [
    "##### Example-2"
   ]
  },
  {
   "cell_type": "code",
   "execution_count": null,
   "id": "7623fee4-ba70-4aaf-85c1-f12bd73aa5b8",
   "metadata": {
    "tags": []
   },
   "outputs": [],
   "source": [
    "# alpaca_prompt = Copied from above\n",
    "FastLanguageModel.for_inference(model) # Enable native 2x faster inference\n",
    "inputs = tokenizer(\n",
    "[\n",
    "    alpaca_prompt.format(\n",
    "        \"(9+0)+(10+5)? 3 चरणांमध्ये सोडवा\",\n",
    "        \"\",\n",
    "        \"\"\n",
    "    )\n",
    "], return_tensors = \"pt\").to(\"cuda\")\n",
    "\n",
    "outputs = model.generate(**inputs, max_new_tokens = 1000, use_cache = True)\n",
    "tokenizer.batch_decode(outputs)"
   ]
  }
 ],
 "metadata": {
  "kernelspec": {
   "display_name": "Python 3 (ipykernel)",
   "language": "python",
   "name": "python3"
  },
  "language_info": {
   "codemirror_mode": {
    "name": "ipython",
    "version": 3
   },
   "file_extension": ".py",
   "mimetype": "text/x-python",
   "name": "python",
   "nbconvert_exporter": "python",
   "pygments_lexer": "ipython3",
   "version": "3.10.6"
  }
 },
 "nbformat": 4,
 "nbformat_minor": 5
}
